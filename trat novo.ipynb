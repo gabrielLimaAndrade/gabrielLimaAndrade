{
 "cells": [
  {
   "cell_type": "code",
   "execution_count": null,
   "metadata": {
    "executionInfo": {
     "elapsed": 2412,
     "status": "ok",
     "timestamp": 1696372656437,
     "user": {
      "displayName": "Bruno Souza da Silva",
      "userId": "02401638620678841505"
     },
     "user_tz": 180
    },
    "id": "biaDBzGNp8fK"
   },
   "outputs": [],
   "source": [
    "#baixar bibliotecas no terminal\n",
    "import pandas as pd \n",
    "import numpy as np\n",
    "import missingno as msno\n",
    "import plotly.express as px\n"
   ]
  },
  {
   "cell_type": "code",
   "execution_count": null,
   "metadata": {
    "executionInfo": {
     "elapsed": 446,
     "status": "ok",
     "timestamp": 1696373489184,
     "user": {
      "displayName": "Bruno Souza da Silva",
      "userId": "02401638620678841505"
     },
     "user_tz": 180
    },
    "id": "9IPEiu43p8fX"
   },
   "outputs": [],
   "source": [
    "#trocar a area onde fica a base original\n",
    "file_path = r'C:\\Users\\dellg\\OneDrive\\Documentos\\Trabalhos\\Codigos\\0_Bases_Originais\\Magazine.csv'\n",
    "produtosprecos = pd.read_csv(file_path)"
   ]
  },
  {
   "cell_type": "code",
   "execution_count": null,
   "metadata": {},
   "outputs": [],
   "source": [
    "produtosprecos = produtosprecos.drop(columns=['Unnamed: 0']).reset_index(drop=True)"
   ]
  },
  {
   "cell_type": "code",
   "execution_count": null,
   "metadata": {},
   "outputs": [],
   "source": [
    "produtosprecos['Precos'] = produtosprecos['Precos'].str.replace(r'[^\\d,]', '', regex=True)\n",
    "produtosprecos['Precos'] = produtosprecos['Precos'].str.replace(',', '.').astype(float)\n"
   ]
  },
  {
   "cell_type": "code",
   "execution_count": null,
   "metadata": {},
   "outputs": [],
   "source": [
    "produtosprecos"
   ]
  },
  {
   "cell_type": "code",
   "execution_count": null,
   "metadata": {},
   "outputs": [],
   "source": [
    "\n",
    "top_5_mais_caros = produtosprecos.nlargest(5, 'Precos')[['aparelho','marca','modelo','Precos']]\n",
    "top_5_mais_caros"
   ]
  },
  {
   "cell_type": "code",
   "execution_count": null,
   "metadata": {},
   "outputs": [],
   "source": [
    "top_5_mais_baratos = produtosprecos.nsmallest(5, 'Precos')[['aparelho','marca','modelo','Precos']]\n",
    "top_5_mais_baratos"
   ]
  },
  {
   "cell_type": "code",
   "execution_count": null,
   "metadata": {},
   "outputs": [],
   "source": [
    "media_preco = produtosprecos['Precos'].mean()\n",
    "media_preco = print(f'Media ={media_preco}')"
   ]
  },
  {
   "cell_type": "code",
   "execution_count": null,
   "metadata": {},
   "outputs": [],
   "source": [
    "produtos_ordenados = produtosprecos.sort_values(by='Precos', ascending=False)\n",
    "produtos_ordenados"
   ]
  },
  {
   "cell_type": "code",
   "execution_count": null,
   "metadata": {},
   "outputs": [],
   "source": [
    "print(\"Top 5 produtos com maior preço:\")\n",
    "print(top_5_mais_caros)"
   ]
  },
  {
   "cell_type": "code",
   "execution_count": null,
   "metadata": {},
   "outputs": [],
   "source": [
    "print(\"\\nTop 5 produtos com menor preço:\")\n",
    "print(top_5_mais_baratos)"
   ]
  },
  {
   "cell_type": "code",
   "execution_count": null,
   "metadata": {},
   "outputs": [],
   "source": [
    "print(\"\\nListagem de todos os produtos em ordem decrescente de preço:\")\n",
    "print(produtos_ordenados)"
   ]
  },
  {
   "cell_type": "code",
   "execution_count": null,
   "metadata": {},
   "outputs": [],
   "source": [
    "#produtosprecos.to_csv('../1_Bases_Tratadas/MagazineTratada.csv')\n",
    "from sqlalchemy import create_engine \n",
    "engine = create_engine('sqlite:///banco.db', echo=True)\n",
    "produtosprecos.to_sql('dados', con=engine, if_exists='replace', index=False) \n"
   ]
  },
  {
   "cell_type": "code",
   "execution_count": 20,
   "metadata": {},
   "outputs": [
    {
     "name": "stdout",
     "output_type": "stream",
     "text": [
      "2024-11-25 01:43:48,760 INFO sqlalchemy.engine.Engine BEGIN (implicit)\n",
      "2024-11-25 01:43:48,763 INFO sqlalchemy.engine.Engine PRAGMA main.table_info(\"SELECT * FROM dados\")\n",
      "2024-11-25 01:43:48,765 INFO sqlalchemy.engine.Engine [raw sql] ()\n",
      "2024-11-25 01:43:48,769 INFO sqlalchemy.engine.Engine PRAGMA temp.table_info(\"SELECT * FROM dados\")\n",
      "2024-11-25 01:43:48,772 INFO sqlalchemy.engine.Engine [raw sql] ()\n",
      "2024-11-25 01:43:48,776 INFO sqlalchemy.engine.Engine SELECT * FROM dados\n",
      "2024-11-25 01:43:48,779 INFO sqlalchemy.engine.Engine [raw sql] ()\n",
      "2024-11-25 01:43:48,841 INFO sqlalchemy.engine.Engine ROLLBACK\n"
     ]
    }
   ],
   "source": [
    "df_lido = pd.read_sql('SELECT * FROM dados', con=engine)"
   ]
  }
 ],
 "metadata": {
  "colab": {
   "collapsed_sections": [
    "GDhnxDzHp8gT"
   ],
   "provenance": []
  },
  "kernelspec": {
   "display_name": "Python 3",
   "language": "python",
   "name": "python3"
  },
  "language_info": {
   "codemirror_mode": {
    "name": "ipython",
    "version": 3
   },
   "file_extension": ".py",
   "mimetype": "text/x-python",
   "name": "python",
   "nbconvert_exporter": "python",
   "pygments_lexer": "ipython3",
   "version": "3.11.9"
  },
  "orig_nbformat": 4
 },
 "nbformat": 4,
 "nbformat_minor": 0
}
